{
 "cells": [
  {
   "cell_type": "markdown",
   "id": "eccc056c",
   "metadata": {
    "papermill": {
     "duration": 0.008859,
     "end_time": "2023-06-12T13:34:02.306664",
     "exception": false,
     "start_time": "2023-06-12T13:34:02.297805",
     "status": "completed"
    },
    "tags": []
   },
   "source": [
    "Upload basic libraries and read csv train and test file"
   ]
  },
  {
   "cell_type": "code",
   "execution_count": 1,
   "id": "e302c152",
   "metadata": {
    "execution": {
     "iopub.execute_input": "2023-06-12T13:34:02.326508Z",
     "iopub.status.busy": "2023-06-12T13:34:02.325890Z",
     "iopub.status.idle": "2023-06-12T13:34:02.371738Z",
     "shell.execute_reply": "2023-06-12T13:34:02.370131Z"
    },
    "papermill": {
     "duration": 0.059009,
     "end_time": "2023-06-12T13:34:02.374720",
     "exception": false,
     "start_time": "2023-06-12T13:34:02.315711",
     "status": "completed"
    },
    "tags": []
   },
   "outputs": [],
   "source": [
    "import numpy as np # linear algebra\n",
    "import pandas as pd # data processing, CSV file I/O (e.g. pd.read_csv)\n",
    "import pickle \n",
    "\n",
    "df_train = pd.read_csv('train.csv')\n",
    "df_test = pd.read_csv('test.csv')"
   ]
  },
  {
   "cell_type": "markdown",
   "id": "67bf4f8d",
   "metadata": {
    "papermill": {
     "duration": 0.007714,
     "end_time": "2023-06-12T13:34:02.390611",
     "exception": false,
     "start_time": "2023-06-12T13:34:02.382897",
     "status": "completed"
    },
    "tags": []
   },
   "source": [
    "To effectively address the missing values in both documents, it is necessary to utilize the 'isna' function"
   ]
  },
  {
   "cell_type": "code",
   "execution_count": 2,
   "id": "f0cf55d3",
   "metadata": {
    "execution": {
     "iopub.execute_input": "2023-06-12T13:34:02.409481Z",
     "iopub.status.busy": "2023-06-12T13:34:02.408477Z",
     "iopub.status.idle": "2023-06-12T13:34:02.424033Z",
     "shell.execute_reply": "2023-06-12T13:34:02.422924Z"
    },
    "papermill": {
     "duration": 0.027588,
     "end_time": "2023-06-12T13:34:02.426573",
     "exception": false,
     "start_time": "2023-06-12T13:34:02.398985",
     "status": "completed"
    },
    "tags": []
   },
   "outputs": [
    {
     "name": "stdout",
     "output_type": "stream",
     "text": [
      "PassengerId      0\n",
      "Survived         0\n",
      "Pclass           0\n",
      "Name             0\n",
      "Sex              0\n",
      "SibSp            0\n",
      "Parch            0\n",
      "Ticket           0\n",
      "Fare             0\n",
      "Embarked         2\n",
      "Age            177\n",
      "Cabin          687\n",
      "dtype: int64\n",
      "PassengerId      0\n",
      "Pclass           0\n",
      "Name             0\n",
      "Sex              0\n",
      "SibSp            0\n",
      "Parch            0\n",
      "Ticket           0\n",
      "Embarked         0\n",
      "Fare             1\n",
      "Age             86\n",
      "Cabin          327\n",
      "dtype: int64\n"
     ]
    }
   ],
   "source": [
    "print(df_train.isna().sum().sort_values())\n",
    "print(df_test.isna().sum().sort_values())\n"
   ]
  },
  {
   "cell_type": "markdown",
   "id": "9cdc5aaf",
   "metadata": {
    "papermill": {
     "duration": 0.009444,
     "end_time": "2023-06-12T13:34:02.444124",
     "exception": false,
     "start_time": "2023-06-12T13:34:02.434680",
     "status": "completed"
    },
    "tags": []
   },
   "source": [
    "To handle the missing values for the \"Age\" and \"Fare\" variables in both the train and test sets, it is necessary to impute these missing values using the strategies of \"mean\" and \"most frequent\". Subsequently, these imputed values can be replaced in the respective dataframes, df_train and df_test. This process ensures that the missing values in both datasets are effectively addressed, providing more complete and reliable data for further analysis."
   ]
  },
  {
   "cell_type": "code",
   "execution_count": 3,
   "id": "9eda88c9",
   "metadata": {
    "execution": {
     "iopub.execute_input": "2023-06-12T13:34:02.462344Z",
     "iopub.status.busy": "2023-06-12T13:34:02.461711Z",
     "iopub.status.idle": "2023-06-12T13:34:04.362256Z",
     "shell.execute_reply": "2023-06-12T13:34:04.361081Z"
    },
    "papermill": {
     "duration": 1.91296,
     "end_time": "2023-06-12T13:34:04.365119",
     "exception": false,
     "start_time": "2023-06-12T13:34:02.452159",
     "status": "completed"
    },
    "tags": []
   },
   "outputs": [],
   "source": [
    "from sklearn.impute import SimpleImputer\n",
    "\n",
    "#Impuration of age variable in test set\n",
    "X_age = df_test[\"Age\"].values.reshape(-1, 1)\n",
    "\n",
    "imputer = SimpleImputer(strategy='mean', missing_values=np.nan)\n",
    "imputer = imputer.fit(X_age)\n",
    "X_age = imputer.transform(X_age)\n",
    "\n",
    "\n",
    "# Assign the imputed values back to the DataFrame\n",
    "df_test[\"Age\"] = X_age.flatten()\n",
    "\n",
    "#Impuration of Fate variable in test set\n",
    "X_fare = df_test[\"Fare\"].values.reshape(-1, 1)\n",
    "\n",
    "imputer = SimpleImputer(strategy='mean', missing_values=np.nan)\n",
    "imputer = imputer.fit(X_fare)\n",
    "X_fare = imputer.transform(X_fare)\n",
    "\n",
    "\n",
    "# Assign the imputed values back to the DataFrame\n",
    "df_test[\"Fare\"] = X_fare.flatten()\n",
    "\n",
    "#Impuration of age variable in train set\n",
    "X_age_train = df_train[\"Age\"].values.reshape(-1, 1)\n",
    "\n",
    "imputer = SimpleImputer(strategy='most_frequent', missing_values=np.nan)\n",
    "imputer = imputer.fit(X_age_train)\n",
    "X_age_train = imputer.transform(X_age_train)\n",
    "\n",
    "\n",
    "# Assign the imputed values back to the DataFrame\n",
    "df_train[\"Age\"] = X_age_train.flatten()"
   ]
  },
  {
   "cell_type": "markdown",
   "id": "1afbdfea",
   "metadata": {
    "papermill": {
     "duration": 0.008275,
     "end_time": "2023-06-12T13:34:04.381631",
     "exception": false,
     "start_time": "2023-06-12T13:34:04.373356",
     "status": "completed"
    },
    "tags": []
   },
   "source": [
    "After performing the imputation process, it is recommended to conduct another check to ensure the effectiveness of the imputation. By examining the document once more via .isna function to verify if the imputation successfully filled in the previously empty fields. "
   ]
  },
  {
   "cell_type": "code",
   "execution_count": 4,
   "id": "29a28227",
   "metadata": {
    "execution": {
     "iopub.execute_input": "2023-06-12T13:34:04.401071Z",
     "iopub.status.busy": "2023-06-12T13:34:04.400264Z",
     "iopub.status.idle": "2023-06-12T13:34:04.412621Z",
     "shell.execute_reply": "2023-06-12T13:34:04.411360Z"
    },
    "papermill": {
     "duration": 0.025535,
     "end_time": "2023-06-12T13:34:04.415411",
     "exception": false,
     "start_time": "2023-06-12T13:34:04.389876",
     "status": "completed"
    },
    "tags": []
   },
   "outputs": [
    {
     "name": "stdout",
     "output_type": "stream",
     "text": [
      "PassengerId      0\n",
      "Survived         0\n",
      "Pclass           0\n",
      "Name             0\n",
      "Sex              0\n",
      "Age              0\n",
      "SibSp            0\n",
      "Parch            0\n",
      "Ticket           0\n",
      "Fare             0\n",
      "Embarked         2\n",
      "Cabin          687\n",
      "dtype: int64\n",
      "PassengerId      0\n",
      "Pclass           0\n",
      "Name             0\n",
      "Sex              0\n",
      "Age              0\n",
      "SibSp            0\n",
      "Parch            0\n",
      "Ticket           0\n",
      "Fare             0\n",
      "Embarked         0\n",
      "Cabin          327\n",
      "dtype: int64\n"
     ]
    }
   ],
   "source": [
    "print(df_train.isna().sum().sort_values())\n",
    "print(df_test.isna().sum().sort_values())"
   ]
  },
  {
   "cell_type": "markdown",
   "id": "5f9e8e90",
   "metadata": {
    "papermill": {
     "duration": 0.00797,
     "end_time": "2023-06-12T13:34:04.431859",
     "exception": false,
     "start_time": "2023-06-12T13:34:04.423889",
     "status": "completed"
    },
    "tags": []
   },
   "source": [
    "To gain insights into the correlations between variables, it is beneficial to generate a correlation heat map. By plotting this heat map, you can visualize the strength of the relationships between different variables. "
   ]
  },
  {
   "cell_type": "code",
   "execution_count": 5,
   "id": "a883a969",
   "metadata": {
    "execution": {
     "iopub.execute_input": "2023-06-12T13:34:04.450374Z",
     "iopub.status.busy": "2023-06-12T13:34:04.449950Z",
     "iopub.status.idle": "2023-06-12T13:34:05.521949Z",
     "shell.execute_reply": "2023-06-12T13:34:05.520544Z"
    },
    "papermill": {
     "duration": 1.084674,
     "end_time": "2023-06-12T13:34:05.524969",
     "exception": false,
     "start_time": "2023-06-12T13:34:04.440295",
     "status": "completed"
    },
    "tags": []
   },
   "outputs": [
    {
     "name": "stderr",
     "output_type": "stream",
     "text": [
      "/var/folders/fp/rgbj4wss58jdy82pc16ndy5h0000gn/T/ipykernel_21258/196388433.py:4: FutureWarning: The default value of numeric_only in DataFrame.corr is deprecated. In a future version, it will default to False. Select only valid columns or specify the value of numeric_only to silence this warning.\n",
      "  sns.heatmap(df_train.corr(), annot=True,cmap=\"RdBu\")\n"
     ]
    },
    {
     "data": {
      "text/plain": [
       "Text(0.5, 1.0, 'Correlations')"
      ]
     },
     "execution_count": 5,
     "metadata": {},
     "output_type": "execute_result"
    },
    {
     "data": {
      "image/png": "[encoded data removed]",
      "text/plain": [
       "<Figure size 1500x800 with 2 Axes>"
      ]
     },
     "metadata": {},
     "output_type": "display_data"
    }
   ],
   "source": [
    "import seaborn as sns \n",
    "import matplotlib.pyplot as plt \n",
    "plt.subplots(figsize = (15,8))\n",
    "sns.heatmap(df_train.corr(), annot=True,cmap=\"RdBu\")\n",
    "plt.title(\"Correlations\", fontsize = 18)"
   ]
  },
  {
   "cell_type": "markdown",
   "id": "1aa339a3",
   "metadata": {
    "papermill": {
     "duration": 0.009485,
     "end_time": "2023-06-12T13:34:05.544298",
     "exception": false,
     "start_time": "2023-06-12T13:34:05.534813",
     "status": "completed"
    },
    "tags": []
   },
   "source": [
    "Before utilizing machine learning algorithms, it is crucial to define and scale the variables appropriately. "
   ]
  },
  {
   "cell_type": "code",
   "execution_count": 6,
   "id": "4e03c924",
   "metadata": {
    "execution": {
     "iopub.execute_input": "2023-06-12T13:34:05.566372Z",
     "iopub.status.busy": "2023-06-12T13:34:05.565538Z",
     "iopub.status.idle": "2023-06-12T13:34:05.583146Z",
     "shell.execute_reply": "2023-06-12T13:34:05.581940Z"
    },
    "papermill": {
     "duration": 0.031914,
     "end_time": "2023-06-12T13:34:05.585827",
     "exception": false,
     "start_time": "2023-06-12T13:34:05.553913",
     "status": "completed"
    },
    "tags": []
   },
   "outputs": [],
   "source": [
    "from sklearn.preprocessing import StandardScaler, LabelEncoder\n",
    "\n",
    "le = LabelEncoder()\n",
    "df_train[\"Sex\"] = le.fit_transform(df_train[\"Sex\"])\n",
    "\n",
    "features = [\"Pclass\", \"Sex\", \"Age\",\"SibSp\", \"Parch\", \"Fare\"]\n",
    "\n",
    "y = df_train[\"Survived\"]\n",
    "X = df_train[features]\n",
    "\n",
    "scaler = StandardScaler()\n",
    "X_scaled = scaler.fit_transform(X)"
   ]
  },
  {
   "cell_type": "markdown",
   "id": "5d1314a3",
   "metadata": {
    "papermill": {
     "duration": 0.00957,
     "end_time": "2023-06-12T13:34:05.605069",
     "exception": false,
     "start_time": "2023-06-12T13:34:05.595499",
     "status": "completed"
    },
    "tags": []
   },
   "source": [
    "Train machine learning algorithms including Linear Logistics, KNN (K-Nearest Neighbors), Random Forest, and SVM (Support Vector Machines), and then utilize the VotingClassifier as a meta model,"
   ]
  },
  {
   "cell_type": "code",
   "execution_count": 7,
   "id": "3e70842f",
   "metadata": {
    "execution": {
     "iopub.execute_input": "2023-06-12T13:34:05.626400Z",
     "iopub.status.busy": "2023-06-12T13:34:05.625909Z",
     "iopub.status.idle": "2023-06-12T13:34:06.954361Z",
     "shell.execute_reply": "2023-06-12T13:34:06.953415Z"
    },
    "papermill": {
     "duration": 1.342607,
     "end_time": "2023-06-12T13:34:06.957386",
     "exception": false,
     "start_time": "2023-06-12T13:34:05.614779",
     "status": "completed"
    },
    "tags": []
   },
   "outputs": [
    {
     "name": "stdout",
     "output_type": "stream",
     "text": [
      "Logistic Regression : 0.769\n",
      "KNearestNeighbours : 0.780\n",
      "Random Forest : 0.787\n",
      "Support Vector Machine : 0.799\n",
      "XGBoost : 0.769\n",
      "Print Voting Classifier: 0.787\n"
     ]
    }
   ],
   "source": [
    "from sklearn.tree import DecisionTreeClassifier\n",
    "from sklearn.metrics import accuracy_score\n",
    "from sklearn.linear_model import LogisticRegression\n",
    "from sklearn.neighbors import KNeighborsClassifier as KNN\n",
    "from sklearn.ensemble import VotingClassifier\n",
    "from sklearn.ensemble import RandomForestClassifier\n",
    "from sklearn.model_selection import train_test_split\n",
    "from sklearn.svm import SVC\n",
    "import xgboost as xgb\n",
    "\n",
    "\n",
    "SEED = 1\n",
    "\n",
    "# Splitting the training set into smaller training set and validation set\n",
    "X_train, X_test, y_train, y_test = train_test_split(X_scaled,y,test_size=0.30,random_state=SEED)\n",
    "\n",
    "# Decision tree classifier\n",
    "knn = KNN(n_neighbors=15)\n",
    "lr = LogisticRegression(C=0.1)\n",
    "rf = RandomForestClassifier(n_estimators=100,min_samples_leaf=4,max_features=\"log2\")\n",
    "svm = SVC(C= 1, kernel= 'rbf')\n",
    "xgb_clf = xgb.XGBClassifier(learning_rate=0.3, max_depth= 5, n_estimators=150)\n",
    "\n",
    "classifiers = [('Logistic Regression', lr),\n",
    "               ('KNearestNeighbours', knn),\n",
    "               ('Random Forest', rf),\n",
    "               ('Support Vector Machine', svm),\n",
    "               ('XGBoost', xgb_clf)]\n",
    "\n",
    "# Train and evaluate classifiers on the validation set\n",
    "for clf_name, clf in classifiers:\n",
    "    clf.fit(X_train, y_train)\n",
    "    y_pred = clf.predict(X_test)\n",
    "    print('{:s} : {:.3f}'.format(clf_name, accuracy_score(y_test, y_pred)))\n",
    "\n",
    "# Train the voting classifier on the full training set\n",
    "vc = VotingClassifier(estimators=classifiers)\n",
    "vc.fit(X_train, y_train)\n",
    "y_pred_vc = vc.predict(X_test)\n",
    "\n",
    "print('Print Voting Classifier: {:.3f}'.format(accuracy_score(y_test, y_pred_vc)))"
   ]
  },
  {
   "cell_type": "markdown",
   "id": "c0e2c926",
   "metadata": {
    "papermill": {
     "duration": 0.009788,
     "end_time": "2023-06-12T13:34:06.977702",
     "exception": false,
     "start_time": "2023-06-12T13:34:06.967914",
     "status": "completed"
    },
    "tags": []
   },
   "source": [
    "Additional meta model known as the Stacking Classifier can be incorporated. This model allows for a comprehensive assessment of the performance enabling a thorough comparison with previous voting classifier."
   ]
  },
  {
   "cell_type": "code",
   "execution_count": 8,
   "id": "04e0e836",
   "metadata": {
    "execution": {
     "iopub.execute_input": "2023-06-12T13:34:06.999400Z",
     "iopub.status.busy": "2023-06-12T13:34:06.998996Z",
     "iopub.status.idle": "2023-06-12T13:34:09.298812Z",
     "shell.execute_reply": "2023-06-12T13:34:09.297881Z"
    },
    "papermill": {
     "duration": 2.314117,
     "end_time": "2023-06-12T13:34:09.301722",
     "exception": false,
     "start_time": "2023-06-12T13:34:06.987605",
     "status": "completed"
    },
    "tags": []
   },
   "outputs": [
    {
     "name": "stdout",
     "output_type": "stream",
     "text": [
      "Stacking Classifier: 0.795\n"
     ]
    }
   ],
   "source": [
    "from sklearn.ensemble import StackingClassifier\n",
    "\n",
    "# Initialize the StackingClassifier with the base classifiers\n",
    "stacking_clf = StackingClassifier(estimators=classifiers, final_estimator=LogisticRegression())\n",
    "stacking_clf.fit(X_train, y_train)\n",
    "\n",
    "y_pred_stacking = stacking_clf.predict(X_test)\n",
    "\n",
    "print('Stacking Classifier: {:.3f}'.format(accuracy_score(y_test, y_pred_stacking)))"
   ]
  },
  {
   "cell_type": "markdown",
   "id": "6d1a1e33",
   "metadata": {
    "papermill": {
     "duration": 0.009795,
     "end_time": "2023-06-12T13:34:09.322332",
     "exception": false,
     "start_time": "2023-06-12T13:34:09.312537",
     "status": "completed"
    },
    "tags": []
   },
   "source": []
  },
  {
   "cell_type": "markdown",
   "id": "c1907c32",
   "metadata": {
    "papermill": {
     "duration": 0.009661,
     "end_time": "2023-06-12T13:34:09.342033",
     "exception": false,
     "start_time": "2023-06-12T13:34:09.332372",
     "status": "completed"
    },
    "tags": []
   },
   "source": [
    "To perform hyperparameter tuning using GridSearchCV, various machine learning algorithms such as KNN, Random Forest, Logistic Regression, SVM, and XGBoost can be optimized. By leveraging GridSearchCV, an extensive search over predefined hyperparameter grids can be conducted to identify the best combination of hyperparameters for each algorithm. This process ensures that the models are fine-tuned and optimized, ultimately enhancing their predictive performance and overall effectiveness"
   ]
  },
  {
   "cell_type": "code",
   "execution_count": 9,
   "id": "0b1ccbb2",
   "metadata": {
    "execution": {
     "iopub.execute_input": "2023-06-12T13:34:09.364487Z",
     "iopub.status.busy": "2023-06-12T13:34:09.363830Z",
     "iopub.status.idle": "2023-06-12T13:34:12.017313Z",
     "shell.execute_reply": "2023-06-12T13:34:12.015723Z"
    },
    "papermill": {
     "duration": 2.672077,
     "end_time": "2023-06-12T13:34:12.024110",
     "exception": false,
     "start_time": "2023-06-12T13:34:09.352033",
     "status": "completed"
    },
    "tags": []
   },
   "outputs": [
    {
     "name": "stdout",
     "output_type": "stream",
     "text": [
      "{'n_neighbors': 3}\n"
     ]
    }
   ],
   "source": [
    "from sklearn.model_selection import GridSearchCV\n",
    "params_knn = {\n",
    "    'n_neighbors': [3, 5, 7, 9, 11, 13, 15]}\n",
    "\n",
    "\n",
    "grid_knn = GridSearchCV(estimator=knn,\n",
    "                        param_grid=params_knn,\n",
    "                        scoring='accuracy',\n",
    "                        cv=10,\n",
    "                        n_jobs=-1)\n",
    "\n",
    "\n",
    "grid_knn.fit(X_train, y_train)\n",
    "\n",
    "\n",
    "best_hyperparams_knn = grid_knn.best_params_\n",
    "print(best_hyperparams_knn)"
   ]
  },
  {
   "cell_type": "code",
   "execution_count": 10,
   "id": "5fdc9dbf",
   "metadata": {
    "execution": {
     "iopub.execute_input": "2023-06-12T13:34:12.056512Z",
     "iopub.status.busy": "2023-06-12T13:34:12.055538Z",
     "iopub.status.idle": "2023-06-12T13:35:28.975022Z",
     "shell.execute_reply": "2023-06-12T13:35:28.973682Z"
    },
    "papermill": {
     "duration": 76.948113,
     "end_time": "2023-06-12T13:35:28.987989",
     "exception": false,
     "start_time": "2023-06-12T13:34:12.039876",
     "status": "completed"
    },
    "tags": []
   },
   "outputs": [
    {
     "name": "stdout",
     "output_type": "stream",
     "text": [
      "{'max_features': 'log2', 'min_samples_leaf': 2, 'n_estimators': 100}\n"
     ]
    }
   ],
   "source": [
    "params_rf = {\n",
    "    'n_estimators': [100, 200, 300, 400],\n",
    "    'min_samples_leaf': [2, 4, 6, 8],\n",
    "    'max_features': ['sqrt', 'log2']}\n",
    "\n",
    "grid_rf = GridSearchCV(estimator=rf,\n",
    "                       param_grid=params_rf,\n",
    "                       scoring='accuracy',\n",
    "                       cv=10,\n",
    "                       n_jobs=-1)\n",
    "\n",
    "grid_rf.fit(X_train, y_train)\n",
    "\n",
    "best_hyperparams_rf = grid_rf.best_params_\n",
    "print(best_hyperparams_rf)"
   ]
  },
  {
   "cell_type": "code",
   "execution_count": 11,
   "id": "efb0b7c6",
   "metadata": {
    "execution": {
     "iopub.execute_input": "2023-06-12T13:35:29.009968Z",
     "iopub.status.busy": "2023-06-12T13:35:29.009576Z",
     "iopub.status.idle": "2023-06-12T13:35:29.407055Z",
     "shell.execute_reply": "2023-06-12T13:35:29.406083Z"
    },
    "papermill": {
     "duration": 0.411751,
     "end_time": "2023-06-12T13:35:29.409863",
     "exception": false,
     "start_time": "2023-06-12T13:35:28.998112",
     "status": "completed"
    },
    "tags": []
   },
   "outputs": [
    {
     "name": "stdout",
     "output_type": "stream",
     "text": [
      "{'C': 1, 'kernel': 'rbf'}\n"
     ]
    }
   ],
   "source": [
    "params_svm = {\n",
    "    'C': [0.1, 1, 10],\n",
    "    'kernel': ['linear', 'rbf']\n",
    "             }\n",
    "\n",
    "grid_svm = GridSearchCV(estimator=svm,\n",
    "                        param_grid=params_svm,\n",
    "                        scoring='accuracy',\n",
    "                        cv=10,\n",
    "                        n_jobs=-1)\n",
    "\n",
    "\n",
    "grid_svm.fit(X_train, y_train)\n",
    "\n",
    "best_hyperparams_svm = grid_svm.best_params_\n",
    "\n",
    "print(best_hyperparams_svm)"
   ]
  },
  {
   "cell_type": "code",
   "execution_count": 12,
   "id": "b42177e9",
   "metadata": {
    "execution": {
     "iopub.execute_input": "2023-06-12T13:35:29.433619Z",
     "iopub.status.busy": "2023-06-12T13:35:29.432625Z",
     "iopub.status.idle": "2023-06-12T13:35:29.559398Z",
     "shell.execute_reply": "2023-06-12T13:35:29.558509Z"
    },
    "papermill": {
     "duration": 0.140873,
     "end_time": "2023-06-12T13:35:29.561716",
     "exception": false,
     "start_time": "2023-06-12T13:35:29.420843",
     "status": "completed"
    },
    "tags": []
   },
   "outputs": [
    {
     "name": "stdout",
     "output_type": "stream",
     "text": [
      "{'C': 0.1}\n"
     ]
    }
   ],
   "source": [
    "params_lr = {\n",
    "    'C': [0.1, 1, 5, 10],\n",
    "            }\n",
    "\n",
    "grid_lr = GridSearchCV(estimator=lr,\n",
    "                       param_grid=params_lr,\n",
    "                       scoring='accuracy',\n",
    "                       cv=10,\n",
    "                       n_jobs=-1)\n",
    "\n",
    "\n",
    "grid_lr.fit(X_train, y_train)\n",
    "\n",
    "\n",
    "best_hyperparams_lr = grid_lr.best_params_\n",
    "print(best_hyperparams_lr)"
   ]
  },
  {
   "cell_type": "code",
   "execution_count": 13,
   "id": "e5d3a132",
   "metadata": {
    "execution": {
     "iopub.execute_input": "2023-06-12T13:35:29.584498Z",
     "iopub.status.busy": "2023-06-12T13:35:29.583489Z",
     "iopub.status.idle": "2023-06-12T13:35:36.798779Z",
     "shell.execute_reply": "2023-06-12T13:35:36.797790Z"
    },
    "papermill": {
     "duration": 7.229346,
     "end_time": "2023-06-12T13:35:36.801348",
     "exception": false,
     "start_time": "2023-06-12T13:35:29.572002",
     "status": "completed"
    },
    "tags": []
   },
   "outputs": [
    {
     "name": "stdout",
     "output_type": "stream",
     "text": [
      "{'learning_rate': 0.1, 'max_depth': 3, 'n_estimators': 50}\n"
     ]
    }
   ],
   "source": [
    "# Define the parameter grid\n",
    "params_xgb = {\n",
    "    'learning_rate': [0.1, 0.2, 0.3],\n",
    "    'max_depth': [3, 5, 7],\n",
    "    'n_estimators': [50, 100, 150]\n",
    "}\n",
    "\n",
    "# Create an instance of the XGBoost classifier\n",
    "xgb_clf = xgb.XGBClassifier()\n",
    "\n",
    "# Create the grid search object\n",
    "grid_xgb = GridSearchCV(estimator=xgb_clf,\n",
    "                        param_grid=params_xgb,\n",
    "                        scoring='accuracy',\n",
    "                        cv=10,\n",
    "                        n_jobs=-1)\n",
    "\n",
    "# Fit the grid search to the training data\n",
    "grid_xgb.fit(X_train, y_train)\n",
    "\n",
    "# Get the best hyperparameters found by the grid search\n",
    "best_hyperparams_xgb = grid_xgb.best_params_\n",
    "print(best_hyperparams_xgb)"
   ]
  },
  {
   "cell_type": "code",
   "execution_count": 14,
   "id": "22875023",
   "metadata": {},
   "outputs": [],
   "source": [
    "y_pred_xg = grid_xgb.predict(X_test)"
   ]
  },
  {
   "cell_type": "code",
   "execution_count": 15,
   "id": "de68411e",
   "metadata": {},
   "outputs": [
    {
     "name": "stdout",
     "output_type": "stream",
     "text": [
      "XG BOOST Classifier: 0.772\n"
     ]
    }
   ],
   "source": [
    "print('XG BOOST Classifier: {:.3f}'.format(accuracy_score(y_test, y_pred_xg)))"
   ]
  },
  {
   "cell_type": "markdown",
   "id": "5ea7b861",
   "metadata": {
    "papermill": {
     "duration": 0.010043,
     "end_time": "2023-06-12T13:35:36.822916",
     "exception": false,
     "start_time": "2023-06-12T13:35:36.812873",
     "status": "completed"
    },
    "tags": []
   },
   "source": [
    "Testframe is appropriately scaled, and then it can be fed into the stacking_clf model for predictions and evaluation. This step allows for a fair and accurate assessment of the model's performance on unseen data."
   ]
  },
  {
   "cell_type": "code",
   "execution_count": 16,
   "id": "7c3f5cf3",
   "metadata": {
    "execution": {
     "iopub.execute_input": "2023-06-12T13:35:36.845817Z",
     "iopub.status.busy": "2023-06-12T13:35:36.845391Z",
     "iopub.status.idle": "2023-06-12T13:35:36.902935Z",
     "shell.execute_reply": "2023-06-12T13:35:36.902042Z"
    },
    "papermill": {
     "duration": 0.072205,
     "end_time": "2023-06-12T13:35:36.905627",
     "exception": false,
     "start_time": "2023-06-12T13:35:36.833422",
     "status": "completed"
    },
    "tags": []
   },
   "outputs": [
    {
     "name": "stdout",
     "output_type": "stream",
     "text": [
      "     PassengerId  Survived\n",
      "0            892         0\n",
      "1            893         0\n",
      "2            894         0\n",
      "3            895         0\n",
      "4            896         1\n",
      "..           ...       ...\n",
      "413         1305         0\n",
      "414         1306         1\n",
      "415         1307         0\n",
      "416         1308         0\n",
      "417         1309         0\n",
      "\n",
      "[418 rows x 2 columns]\n"
     ]
    }
   ],
   "source": [
    "le = LabelEncoder()\n",
    "df_test[\"Sex\"] = le.fit_transform(df_test[\"Sex\"])\n",
    "\n",
    "testframe = df_test[features]\n",
    "\n",
    "testframe_scaled = scaler.transform(testframe)\n",
    "\n",
    "#Stacking is the trained VotingClassifier\n",
    "y_pred = stacking_clf.predict(testframe_scaled)\n",
    "\n",
    "temp = pd.DataFrame({\n",
    "    \"PassengerId\": df_test[\"PassengerId\"],\n",
    "    \"Survived\": y_pred})\n",
    "\n",
    "print(temp)"
   ]
  },
  {
   "cell_type": "code",
   "execution_count": 17,
   "id": "f55bc506",
   "metadata": {
    "papermill": {
     "duration": 0.010737,
     "end_time": "2023-06-12T13:35:36.927839",
     "exception": false,
     "start_time": "2023-06-12T13:35:36.917102",
     "status": "completed"
    },
    "tags": []
   },
   "outputs": [
    {
     "data": {
      "text/html": [
       "<style>#sk-container-id-1 {color: black;background-color: white;}#sk-container-id-1 pre{padding: 0;}#sk-container-id-1 div.sk-toggleable {background-color: white;}#sk-container-id-1 label.sk-toggleable__label {cursor: pointer;display: block;width: 100%;margin-bottom: 0;padding: 0.3em;box-sizing: border-box;text-align: center;}#sk-container-id-1 label.sk-toggleable__label-arrow:before {content: \"▸\";float: left;margin-right: 0.25em;color: #696969;}#sk-container-id-1 label.sk-toggleable__label-arrow:hover:before {color: black;}#sk-container-id-1 div.sk-estimator:hover label.sk-toggleable__label-arrow:before {color: black;}#sk-container-id-1 div.sk-toggleable__content {max-height: 0;max-width: 0;overflow: hidden;text-align: left;background-color: #f0f8ff;}#sk-container-id-1 div.sk-toggleable__content pre {margin: 0.2em;color: black;border-radius: 0.25em;background-color: #f0f8ff;}#sk-container-id-1 input.sk-toggleable__control:checked~div.sk-toggleable__content {max-height: 200px;max-width: 100%;overflow: auto;}#sk-container-id-1 input.sk-toggleable__control:checked~label.sk-toggleable__label-arrow:before {content: \"▾\";}#sk-container-id-1 div.sk-estimator input.sk-toggleable__control:checked~label.sk-toggleable__label {background-color: #d4ebff;}#sk-container-id-1 div.sk-label input.sk-toggleable__control:checked~label.sk-toggleable__label {background-color: #d4ebff;}#sk-container-id-1 input.sk-hidden--visually {border: 0;clip: rect(1px 1px 1px 1px);clip: rect(1px, 1px, 1px, 1px);height: 1px;margin: -1px;overflow: hidden;padding: 0;position: absolute;width: 1px;}#sk-container-id-1 div.sk-estimator {font-family: monospace;background-color: #f0f8ff;border: 1px dotted black;border-radius: 0.25em;box-sizing: border-box;margin-bottom: 0.5em;}#sk-container-id-1 div.sk-estimator:hover {background-color: #d4ebff;}#sk-container-id-1 div.sk-parallel-item::after {content: \"\";width: 100%;border-bottom: 1px solid gray;flex-grow: 1;}#sk-container-id-1 div.sk-label:hover label.sk-toggleable__label {background-color: #d4ebff;}#sk-container-id-1 div.sk-serial::before {content: \"\";position: absolute;border-left: 1px solid gray;box-sizing: border-box;top: 0;bottom: 0;left: 50%;z-index: 0;}#sk-container-id-1 div.sk-serial {display: flex;flex-direction: column;align-items: center;background-color: white;padding-right: 0.2em;padding-left: 0.2em;position: relative;}#sk-container-id-1 div.sk-item {position: relative;z-index: 1;}#sk-container-id-1 div.sk-parallel {display: flex;align-items: stretch;justify-content: center;background-color: white;position: relative;}#sk-container-id-1 div.sk-item::before, #sk-container-id-1 div.sk-parallel-item::before {content: \"\";position: absolute;border-left: 1px solid gray;box-sizing: border-box;top: 0;bottom: 0;left: 50%;z-index: -1;}#sk-container-id-1 div.sk-parallel-item {display: flex;flex-direction: column;z-index: 1;position: relative;background-color: white;}#sk-container-id-1 div.sk-parallel-item:first-child::after {align-self: flex-end;width: 50%;}#sk-container-id-1 div.sk-parallel-item:last-child::after {align-self: flex-start;width: 50%;}#sk-container-id-1 div.sk-parallel-item:only-child::after {width: 0;}#sk-container-id-1 div.sk-dashed-wrapped {border: 1px dashed gray;margin: 0 0.4em 0.5em 0.4em;box-sizing: border-box;padding-bottom: 0.4em;background-color: white;}#sk-container-id-1 div.sk-label label {font-family: monospace;font-weight: bold;display: inline-block;line-height: 1.2em;}#sk-container-id-1 div.sk-label-container {text-align: center;}#sk-container-id-1 div.sk-container {/* jupyter's `normalize.less` sets `[hidden] { display: none; }` but bootstrap.min.css set `[hidden] { display: none !important; }` so we also need the `!important` here to be able to override the default hidden behavior on the sphinx rendered scikit-learn.org. See: https://github.com/scikit-learn/scikit-learn/issues/21755 */display: inline-block !important;position: relative;}#sk-container-id-1 div.sk-text-repr-fallback {display: none;}</style><div id=\"sk-container-id-1\" class=\"sk-top-container\"><div class=\"sk-text-repr-fallback\"><pre>StackingClassifier(estimators=[(&#x27;Logistic Regression&#x27;,\n",
       "                                LogisticRegression(C=0.1)),\n",
       "                               (&#x27;KNearestNeighbours&#x27;,\n",
       "                                KNeighborsClassifier(n_neighbors=15)),\n",
       "                               (&#x27;Random Forest&#x27;,\n",
       "                                RandomForestClassifier(max_features=&#x27;log2&#x27;,\n",
       "                                                       min_samples_leaf=4)),\n",
       "                               (&#x27;Support Vector Machine&#x27;, SVC(C=1)),\n",
       "                               (&#x27;XGBoost&#x27;,\n",
       "                                XGBClassifier(base_score=None, booster=None,\n",
       "                                              callbacks=None,\n",
       "                                              colsample_bylevel=None,\n",
       "                                              cols...\n",
       "                                              importance_type=None,\n",
       "                                              interaction_constraints=None,\n",
       "                                              learning_rate=0.3, max_bin=None,\n",
       "                                              max_cat_threshold=None,\n",
       "                                              max_cat_to_onehot=None,\n",
       "                                              max_delta_step=None, max_depth=5,\n",
       "                                              max_leaves=None,\n",
       "                                              min_child_weight=None,\n",
       "                                              missing=nan,\n",
       "                                              monotone_constraints=None,\n",
       "                                              n_estimators=150, n_jobs=None,\n",
       "                                              num_parallel_tree=None,\n",
       "                                              predictor=None, random_state=None, ...))],\n",
       "                   final_estimator=LogisticRegression())</pre><b>In a Jupyter environment, please rerun this cell to show the HTML representation or trust the notebook. <br />On GitHub, the HTML representation is unable to render, please try loading this page with nbviewer.org.</b></div><div class=\"sk-container\" hidden><div class=\"sk-item sk-dashed-wrapped\"><div class=\"sk-label-container\"><div class=\"sk-label sk-toggleable\"><input class=\"sk-toggleable__control sk-hidden--visually\" id=\"sk-estimator-id-1\" type=\"checkbox\" ><label for=\"sk-estimator-id-1\" class=\"sk-toggleable__label sk-toggleable__label-arrow\">StackingClassifier</label><div class=\"sk-toggleable__content\"><pre>StackingClassifier(estimators=[(&#x27;Logistic Regression&#x27;,\n",
       "                                LogisticRegression(C=0.1)),\n",
       "                               (&#x27;KNearestNeighbours&#x27;,\n",
       "                                KNeighborsClassifier(n_neighbors=15)),\n",
       "                               (&#x27;Random Forest&#x27;,\n",
       "                                RandomForestClassifier(max_features=&#x27;log2&#x27;,\n",
       "                                                       min_samples_leaf=4)),\n",
       "                               (&#x27;Support Vector Machine&#x27;, SVC(C=1)),\n",
       "                               (&#x27;XGBoost&#x27;,\n",
       "                                XGBClassifier(base_score=None, booster=None,\n",
       "                                              callbacks=None,\n",
       "                                              colsample_bylevel=None,\n",
       "                                              cols...\n",
       "                                              importance_type=None,\n",
       "                                              interaction_constraints=None,\n",
       "                                              learning_rate=0.3, max_bin=None,\n",
       "                                              max_cat_threshold=None,\n",
       "                                              max_cat_to_onehot=None,\n",
       "                                              max_delta_step=None, max_depth=5,\n",
       "                                              max_leaves=None,\n",
       "                                              min_child_weight=None,\n",
       "                                              missing=nan,\n",
       "                                              monotone_constraints=None,\n",
       "                                              n_estimators=150, n_jobs=None,\n",
       "                                              num_parallel_tree=None,\n",
       "                                              predictor=None, random_state=None, ...))],\n",
       "                   final_estimator=LogisticRegression())</pre></div></div></div><div class=\"sk-serial\"><div class=\"sk-item\"><div class=\"sk-parallel\"><div class=\"sk-parallel-item\"><div class=\"sk-item\"><div class=\"sk-label-container\"><div class=\"sk-label sk-toggleable\"><label>Logistic Regression</label></div></div><div class=\"sk-serial\"><div class=\"sk-item\"><div class=\"sk-estimator sk-toggleable\"><input class=\"sk-toggleable__control sk-hidden--visually\" id=\"sk-estimator-id-2\" type=\"checkbox\" ><label for=\"sk-estimator-id-2\" class=\"sk-toggleable__label sk-toggleable__label-arrow\">LogisticRegression</label><div class=\"sk-toggleable__content\"><pre>LogisticRegression(C=0.1)</pre></div></div></div></div></div></div><div class=\"sk-parallel-item\"><div class=\"sk-item\"><div class=\"sk-label-container\"><div class=\"sk-label sk-toggleable\"><label>KNearestNeighbours</label></div></div><div class=\"sk-serial\"><div class=\"sk-item\"><div class=\"sk-estimator sk-toggleable\"><input class=\"sk-toggleable__control sk-hidden--visually\" id=\"sk-estimator-id-3\" type=\"checkbox\" ><label for=\"sk-estimator-id-3\" class=\"sk-toggleable__label sk-toggleable__label-arrow\">KNeighborsClassifier</label><div class=\"sk-toggleable__content\"><pre>KNeighborsClassifier(n_neighbors=15)</pre></div></div></div></div></div></div><div class=\"sk-parallel-item\"><div class=\"sk-item\"><div class=\"sk-label-container\"><div class=\"sk-label sk-toggleable\"><label>Random Forest</label></div></div><div class=\"sk-serial\"><div class=\"sk-item\"><div class=\"sk-estimator sk-toggleable\"><input class=\"sk-toggleable__control sk-hidden--visually\" id=\"sk-estimator-id-4\" type=\"checkbox\" ><label for=\"sk-estimator-id-4\" class=\"sk-toggleable__label sk-toggleable__label-arrow\">RandomForestClassifier</label><div class=\"sk-toggleable__content\"><pre>RandomForestClassifier(max_features=&#x27;log2&#x27;, min_samples_leaf=4)</pre></div></div></div></div></div></div><div class=\"sk-parallel-item\"><div class=\"sk-item\"><div class=\"sk-label-container\"><div class=\"sk-label sk-toggleable\"><label>Support Vector Machine</label></div></div><div class=\"sk-serial\"><div class=\"sk-item\"><div class=\"sk-estimator sk-toggleable\"><input class=\"sk-toggleable__control sk-hidden--visually\" id=\"sk-estimator-id-5\" type=\"checkbox\" ><label for=\"sk-estimator-id-5\" class=\"sk-toggleable__label sk-toggleable__label-arrow\">SVC</label><div class=\"sk-toggleable__content\"><pre>SVC(C=1)</pre></div></div></div></div></div></div><div class=\"sk-parallel-item\"><div class=\"sk-item\"><div class=\"sk-label-container\"><div class=\"sk-label sk-toggleable\"><label>XGBoost</label></div></div><div class=\"sk-serial\"><div class=\"sk-item\"><div class=\"sk-estimator sk-toggleable\"><input class=\"sk-toggleable__control sk-hidden--visually\" id=\"sk-estimator-id-6\" type=\"checkbox\" ><label for=\"sk-estimator-id-6\" class=\"sk-toggleable__label sk-toggleable__label-arrow\">XGBClassifier</label><div class=\"sk-toggleable__content\"><pre>XGBClassifier(base_score=None, booster=None, callbacks=None,\n",
       "              colsample_bylevel=None, colsample_bynode=None,\n",
       "              colsample_bytree=None, early_stopping_rounds=None,\n",
       "              enable_categorical=False, eval_metric=None, feature_types=None,\n",
       "              gamma=None, gpu_id=None, grow_policy=None, importance_type=None,\n",
       "              interaction_constraints=None, learning_rate=0.3, max_bin=None,\n",
       "              max_cat_threshold=None, max_cat_to_onehot=None,\n",
       "              max_delta_step=None, max_depth=5, max_leaves=None,\n",
       "              min_child_weight=None, missing=nan, monotone_constraints=None,\n",
       "              n_estimators=150, n_jobs=None, num_parallel_tree=None,\n",
       "              predictor=None, random_state=None, ...)</pre></div></div></div></div></div></div></div></div><div class=\"sk-item\"><div class=\"sk-parallel\"><div class=\"sk-parallel-item\"><div class=\"sk-item\"><div class=\"sk-label-container\"><div class=\"sk-label sk-toggleable\"><label>final_estimator</label></div></div><div class=\"sk-serial\"><div class=\"sk-item\"><div class=\"sk-estimator sk-toggleable\"><input class=\"sk-toggleable__control sk-hidden--visually\" id=\"sk-estimator-id-7\" type=\"checkbox\" ><label for=\"sk-estimator-id-7\" class=\"sk-toggleable__label sk-toggleable__label-arrow\">LogisticRegression</label><div class=\"sk-toggleable__content\"><pre>LogisticRegression()</pre></div></div></div></div></div></div></div></div></div></div></div></div>"
      ],
      "text/plain": [
       "StackingClassifier(estimators=[('Logistic Regression',\n",
       "                                LogisticRegression(C=0.1)),\n",
       "                               ('KNearestNeighbours',\n",
       "                                KNeighborsClassifier(n_neighbors=15)),\n",
       "                               ('Random Forest',\n",
       "                                RandomForestClassifier(max_features='log2',\n",
       "                                                       min_samples_leaf=4)),\n",
       "                               ('Support Vector Machine', SVC(C=1)),\n",
       "                               ('XGBoost',\n",
       "                                XGBClassifier(base_score=None, booster=None,\n",
       "                                              callbacks=None,\n",
       "                                              colsample_bylevel=None,\n",
       "                                              cols...\n",
       "                                              importance_type=None,\n",
       "                                              interaction_constraints=None,\n",
       "                                              learning_rate=0.3, max_bin=None,\n",
       "                                              max_cat_threshold=None,\n",
       "                                              max_cat_to_onehot=None,\n",
       "                                              max_delta_step=None, max_depth=5,\n",
       "                                              max_leaves=None,\n",
       "                                              min_child_weight=None,\n",
       "                                              missing=nan,\n",
       "                                              monotone_constraints=None,\n",
       "                                              n_estimators=150, n_jobs=None,\n",
       "                                              num_parallel_tree=None,\n",
       "                                              predictor=None, random_state=None, ...))],\n",
       "                   final_estimator=LogisticRegression())"
      ]
     },
     "execution_count": 17,
     "metadata": {},
     "output_type": "execute_result"
    }
   ],
   "source": [
    "stacking_clf"
   ]
  },
  {
   "cell_type": "code",
   "execution_count": 18,
   "id": "a37fd5b6",
   "metadata": {},
   "outputs": [],
   "source": [
    "import pickle"
   ]
  },
  {
   "cell_type": "code",
   "execution_count": 19,
   "id": "cce3253c",
   "metadata": {},
   "outputs": [],
   "source": [
    "with open('model.pickle', 'wb') as f:\n",
    "    pickle.dump(stacking_clf, f)"
   ]
  },
  {
   "cell_type": "code",
   "execution_count": 20,
   "id": "e6bf2c18",
   "metadata": {},
   "outputs": [],
   "source": [
    "with open('model.pickle','rb') as f:\n",
    "    stacking_clf = pickle.load(f)"
   ]
  },
  {
   "cell_type": "code",
   "execution_count": 21,
   "id": "a5843456",
   "metadata": {},
   "outputs": [],
   "source": [
    "with open('model_scaler.pickle','wb') as f:\n",
    "    pickle.dump(scaler,f)"
   ]
  },
  {
   "cell_type": "code",
   "execution_count": 23,
   "id": "aa5dc93b",
   "metadata": {},
   "outputs": [
    {
     "data": {
      "text/plain": [
       "array([[ 0.87348191,  0.75592895,  0.3349926 , -0.49947002, -0.4002477 ,\n",
       "        -0.49840706],\n",
       "       [ 0.87348191, -1.32287566,  1.32553003,  0.61699237, -0.4002477 ,\n",
       "        -0.51327429],\n",
       "       [-0.31581919,  0.75592895,  2.51417495, -0.49947002, -0.4002477 ,\n",
       "        -0.46508846],\n",
       "       ...,\n",
       "       [ 0.87348191,  0.75592895,  0.65196458, -0.49947002, -0.4002477 ,\n",
       "        -0.50879189],\n",
       "       [ 0.87348191,  0.75592895,  0.        , -0.49947002, -0.4002477 ,\n",
       "        -0.4944482 ],\n",
       "       [ 0.87348191,  0.75592895,  0.        ,  0.61699237,  0.61989583,\n",
       "        -0.23790598]])"
      ]
     },
     "execution_count": 23,
     "metadata": {},
     "output_type": "execute_result"
    }
   ],
   "source": [
    "scaler.fit_transform(testframe)"
   ]
  },
  {
   "cell_type": "code",
   "execution_count": 24,
   "id": "e53018eb",
   "metadata": {},
   "outputs": [
    {
     "data": {
      "text/plain": [
       "array([[-1.56610693, -1.35557354,  1.4730739 , -0.4745452 , -0.47367361,\n",
       "        -0.12634532],\n",
       "       [ 0.82737724,  0.73769513, -0.3461881 , -0.4745452 , -0.47367361,\n",
       "        -0.48944219],\n",
       "       [-0.36936484, -1.35557354, -0.87680619, -0.4745452 , -0.47367361,\n",
       "        -0.43700744],\n",
       "       ...,\n",
       "       [-0.36936484,  0.73769513,  0.33603515, -0.4745452 , -0.47367361,\n",
       "        -0.40126837],\n",
       "       [-1.56610693,  0.73769513, -0.27038552,  0.43279337, -0.47367361,\n",
       "         1.18542955],\n",
       "       [-1.56610693,  0.73769513,  1.32146873,  0.43279337, -0.47367361,\n",
       "         0.58331784]])"
      ]
     },
     "execution_count": 24,
     "metadata": {},
     "output_type": "execute_result"
    }
   ],
   "source": [
    "X_test"
   ]
  },
  {
   "cell_type": "code",
   "execution_count": 25,
   "id": "e0f316ee",
   "metadata": {},
   "outputs": [
    {
     "data": {
      "text/plain": [
       "array([1, 0, 1, 1, 1, 0, 0, 1, 0, 1, 0, 1, 0, 0, 1, 0, 0, 0, 0, 1, 0, 0,\n",
       "       1, 0, 1, 0, 1, 1, 0, 1, 1, 0, 0, 0, 0, 0, 0, 0, 0, 0, 1, 1, 1, 0,\n",
       "       1, 0, 0, 0, 1, 0, 0, 1, 0, 0, 0, 1, 0, 0, 0, 0, 0, 0, 0, 0, 0, 0,\n",
       "       0, 0, 1, 0, 0, 0, 0, 0, 1, 0, 1, 0, 0, 1, 0, 0, 0, 0, 1, 0, 0, 0,\n",
       "       0, 1, 0, 0, 0, 1, 0, 0, 0, 1, 0, 0, 0, 0, 0, 1, 1, 0, 0, 0, 0, 0,\n",
       "       0, 0, 0, 0, 0, 0, 0, 0, 1, 0, 1, 0, 0, 0, 1, 1, 1, 1, 0, 0, 0, 0,\n",
       "       1, 0, 0, 1, 1, 0, 0, 1, 1, 0, 1, 1, 0, 1, 0, 0, 0, 0, 1, 0, 0, 1,\n",
       "       0, 0, 0, 0, 1, 0, 0, 0, 1, 0, 0, 1, 1, 0, 0, 0, 1, 0, 1, 0, 1, 0,\n",
       "       0, 0, 1, 0, 1, 1, 0, 0, 1, 0, 0, 1, 0, 1, 0, 0, 1, 1, 1, 1, 0, 1,\n",
       "       0, 0, 0, 1, 0, 0, 0, 1, 1, 0, 0, 0, 1, 0, 0, 0, 0, 0, 0, 1, 1, 0,\n",
       "       0, 0, 0, 0, 0, 0, 1, 0, 1, 0, 1, 0, 1, 0, 0, 0, 1, 1, 0, 0, 0, 0,\n",
       "       0, 0, 0, 0, 1, 1, 0, 1, 0, 0, 0, 1, 1, 1, 0, 1, 0, 0, 1, 0, 1, 1,\n",
       "       0, 0, 0, 0])"
      ]
     },
     "execution_count": 25,
     "metadata": {},
     "output_type": "execute_result"
    }
   ],
   "source": [
    "stacking_clf.predict(X_test)"
   ]
  },
  {
   "cell_type": "code",
   "execution_count": 30,
   "id": "901f12f5",
   "metadata": {},
   "outputs": [
    {
     "data": {
      "text/html": [
       "<div>\n",
       "<style scoped>\n",
       "    .dataframe tbody tr th:only-of-type {\n",
       "        vertical-align: middle;\n",
       "    }\n",
       "\n",
       "    .dataframe tbody tr th {\n",
       "        vertical-align: top;\n",
       "    }\n",
       "\n",
       "    .dataframe thead th {\n",
       "        text-align: right;\n",
       "    }\n",
       "</style>\n",
       "<table border=\"1\" class=\"dataframe\">\n",
       "  <thead>\n",
       "    <tr style=\"text-align: right;\">\n",
       "      <th></th>\n",
       "      <th>Pclass</th>\n",
       "      <th>Sex</th>\n",
       "      <th>Age</th>\n",
       "      <th>SibSp</th>\n",
       "      <th>Parch</th>\n",
       "      <th>Fare</th>\n",
       "    </tr>\n",
       "  </thead>\n",
       "  <tbody>\n",
       "    <tr>\n",
       "      <th>0</th>\n",
       "      <td>3</td>\n",
       "      <td>1</td>\n",
       "      <td>22.0</td>\n",
       "      <td>1</td>\n",
       "      <td>0</td>\n",
       "      <td>7.2500</td>\n",
       "    </tr>\n",
       "    <tr>\n",
       "      <th>1</th>\n",
       "      <td>1</td>\n",
       "      <td>0</td>\n",
       "      <td>38.0</td>\n",
       "      <td>1</td>\n",
       "      <td>0</td>\n",
       "      <td>71.2833</td>\n",
       "    </tr>\n",
       "    <tr>\n",
       "      <th>2</th>\n",
       "      <td>3</td>\n",
       "      <td>0</td>\n",
       "      <td>26.0</td>\n",
       "      <td>0</td>\n",
       "      <td>0</td>\n",
       "      <td>7.9250</td>\n",
       "    </tr>\n",
       "    <tr>\n",
       "      <th>3</th>\n",
       "      <td>1</td>\n",
       "      <td>0</td>\n",
       "      <td>35.0</td>\n",
       "      <td>1</td>\n",
       "      <td>0</td>\n",
       "      <td>53.1000</td>\n",
       "    </tr>\n",
       "    <tr>\n",
       "      <th>4</th>\n",
       "      <td>3</td>\n",
       "      <td>1</td>\n",
       "      <td>35.0</td>\n",
       "      <td>0</td>\n",
       "      <td>0</td>\n",
       "      <td>8.0500</td>\n",
       "    </tr>\n",
       "    <tr>\n",
       "      <th>...</th>\n",
       "      <td>...</td>\n",
       "      <td>...</td>\n",
       "      <td>...</td>\n",
       "      <td>...</td>\n",
       "      <td>...</td>\n",
       "      <td>...</td>\n",
       "    </tr>\n",
       "    <tr>\n",
       "      <th>886</th>\n",
       "      <td>2</td>\n",
       "      <td>1</td>\n",
       "      <td>27.0</td>\n",
       "      <td>0</td>\n",
       "      <td>0</td>\n",
       "      <td>13.0000</td>\n",
       "    </tr>\n",
       "    <tr>\n",
       "      <th>887</th>\n",
       "      <td>1</td>\n",
       "      <td>0</td>\n",
       "      <td>19.0</td>\n",
       "      <td>0</td>\n",
       "      <td>0</td>\n",
       "      <td>30.0000</td>\n",
       "    </tr>\n",
       "    <tr>\n",
       "      <th>888</th>\n",
       "      <td>3</td>\n",
       "      <td>0</td>\n",
       "      <td>24.0</td>\n",
       "      <td>1</td>\n",
       "      <td>2</td>\n",
       "      <td>23.4500</td>\n",
       "    </tr>\n",
       "    <tr>\n",
       "      <th>889</th>\n",
       "      <td>1</td>\n",
       "      <td>1</td>\n",
       "      <td>26.0</td>\n",
       "      <td>0</td>\n",
       "      <td>0</td>\n",
       "      <td>30.0000</td>\n",
       "    </tr>\n",
       "    <tr>\n",
       "      <th>890</th>\n",
       "      <td>3</td>\n",
       "      <td>1</td>\n",
       "      <td>32.0</td>\n",
       "      <td>0</td>\n",
       "      <td>0</td>\n",
       "      <td>7.7500</td>\n",
       "    </tr>\n",
       "  </tbody>\n",
       "</table>\n",
       "<p>891 rows × 6 columns</p>\n",
       "</div>"
      ],
      "text/plain": [
       "     Pclass  Sex   Age  SibSp  Parch     Fare\n",
       "0         3    1  22.0      1      0   7.2500\n",
       "1         1    0  38.0      1      0  71.2833\n",
       "2         3    0  26.0      0      0   7.9250\n",
       "3         1    0  35.0      1      0  53.1000\n",
       "4         3    1  35.0      0      0   8.0500\n",
       "..      ...  ...   ...    ...    ...      ...\n",
       "886       2    1  27.0      0      0  13.0000\n",
       "887       1    0  19.0      0      0  30.0000\n",
       "888       3    0  24.0      1      2  23.4500\n",
       "889       1    1  26.0      0      0  30.0000\n",
       "890       3    1  32.0      0      0   7.7500\n",
       "\n",
       "[891 rows x 6 columns]"
      ]
     },
     "execution_count": 30,
     "metadata": {},
     "output_type": "execute_result"
    }
   ],
   "source": [
    "X"
   ]
  },
  {
   "cell_type": "code",
   "execution_count": 26,
   "id": "b2dee06c",
   "metadata": {},
   "outputs": [
    {
     "data": {
      "text/plain": [
       "array([[ 0.82737724,  0.73769513, -0.49779327,  0.43279337, -0.47367361,\n",
       "        -0.50244517],\n",
       "       [-1.56610693, -1.35557354,  0.71504807,  0.43279337, -0.47367361,\n",
       "         0.78684529],\n",
       "       [ 0.82737724, -1.35557354, -0.19458293, -0.4745452 , -0.47367361,\n",
       "        -0.48885426],\n",
       "       ...,\n",
       "       [ 0.82737724, -1.35557354, -0.3461881 ,  0.43279337,  2.00893337,\n",
       "        -0.17626324],\n",
       "       [-1.56610693,  0.73769513, -0.19458293, -0.4745452 , -0.47367361,\n",
       "        -0.04438104],\n",
       "       [ 0.82737724,  0.73769513,  0.26023257, -0.4745452 , -0.47367361,\n",
       "        -0.49237783]])"
      ]
     },
     "execution_count": 26,
     "metadata": {},
     "output_type": "execute_result"
    }
   ],
   "source": [
    "X_scaled"
   ]
  },
  {
   "cell_type": "code",
   "execution_count": 28,
   "id": "b417071b",
   "metadata": {},
   "outputs": [
    {
     "data": {
      "text/plain": [
       "0      0\n",
       "1      1\n",
       "2      1\n",
       "3      1\n",
       "4      0\n",
       "      ..\n",
       "886    0\n",
       "887    1\n",
       "888    0\n",
       "889    1\n",
       "890    0\n",
       "Name: Survived, Length: 891, dtype: int64"
      ]
     },
     "execution_count": 28,
     "metadata": {},
     "output_type": "execute_result"
    }
   ],
   "source": [
    "y"
   ]
  },
  {
   "cell_type": "code",
   "execution_count": 29,
   "id": "a575867f",
   "metadata": {},
   "outputs": [
    {
     "data": {
      "text/plain": [
       "array([[0., 0., 0., 0., 0., 0.]])"
      ]
     },
     "execution_count": 29,
     "metadata": {},
     "output_type": "execute_result"
    }
   ],
   "source": [
    "scaler.fit_transform(np.array(testframe.iloc[9]).reshape(1,-1))"
   ]
  },
  {
   "cell_type": "code",
   "execution_count": null,
   "id": "a0cc4003",
   "metadata": {},
   "outputs": [],
   "source": []
  }
 ],
 "metadata": {
  "kernelspec": {
   "display_name": "Python 3 (ipykernel)",
   "language": "python",
   "name": "python3"
  },
  "language_info": {
   "codemirror_mode": {
    "name": "ipython",
    "version": 3
   },
   "file_extension": ".py",
   "mimetype": "text/x-python",
   "name": "python",
   "nbconvert_exporter": "python",
   "pygments_lexer": "ipython3",
   "version": "3.9.16"
  },
  "papermill": {
   "default_parameters": {},
   "duration": 110.645613,
   "end_time": "2023-06-12T13:35:39.598578",
   "environment_variables": {},
   "exception": null,
   "input_path": "__notebook__.ipynb",
   "output_path": "__notebook__.ipynb",
   "parameters": {},
   "start_time": "2023-06-12T13:33:48.952965",
   "version": "2.4.0"
  }
 },
 "nbformat": 4,
 "nbformat_minor": 5
}
